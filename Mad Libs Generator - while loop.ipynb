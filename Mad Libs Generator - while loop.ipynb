{
 "cells": [
  {
   "cell_type": "markdown",
   "metadata": {},
   "source": [
    "# Mad Libs Generator\n",
    "Inputs will be arranged to be built in story template"
   ]
  },
  {
   "cell_type": "code",
   "execution_count": null,
   "metadata": {},
   "outputs": [],
   "source": [
    "\"\"\"\n",
    "python while loop:\n",
    "i= 1\n",
    "while i < 6:\n",
    "    print(i)\n",
    "i += 1\n",
    "\"\"\"\n",
    "#loop back to this point once code finishes\n",
    "i=1\n",
    "while (i < 10):\n",
    "    #questions that program asks the user\n",
    "    animal = input(\"Enter animal name: \")\n",
    "    color = input(\"Enter color name: \")\n",
    "    name = input(\"Enter a name: \")\n",
    "    num = input(\"Enter number: \")\n",
    "    #displays the story based on users input\n",
    "    print (\"There is\", animal, \"at your garden.\")\n",
    "    print (\"It has \", color, \"eyes.\")\n",
    "    print (\"It's name is\", name, \"kindly, \", name, \"gave you\", num, \"apples.\")\n",
    "\n",
    "#loop back to \"i=1\"\n",
    "    loop= loop+1"
   ]
  }
 ],
 "metadata": {
  "kernelspec": {
   "display_name": "Python 3",
   "language": "python",
   "name": "python3"
  },
  "language_info": {
   "codemirror_mode": {
    "name": "ipython",
    "version": 3
   },
   "file_extension": ".py",
   "mimetype": "text/x-python",
   "name": "python",
   "nbconvert_exporter": "python",
   "pygments_lexer": "ipython3",
   "version": "3.8.5"
  }
 },
 "nbformat": 4,
 "nbformat_minor": 4
}
