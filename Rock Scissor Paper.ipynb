{
 "cells": [
  {
   "cell_type": "markdown",
   "metadata": {},
   "source": [
    "# Rock scissors paper\n",
    "program or a mini-game is designed when you don’t have anyone to play or you are under lockdown alone. There are a number of functions that this program requires so let us have an overview of each.\n",
    "\n",
    "- a random function: to generate rock, paper, or scissors. \n",
    "- valid function: to check the validity of the move.\n",
    "- result function: to declare the winner of the round.\n",
    "- scorekeeper: to keep track of the score.\n",
    "\n",
    "The program requires the user to make the first move before it makes one the move. Once the move is validated the input is evaluated, the input entered could be a string or an alphabet. After evaluating the input string a winner is decided by the result function and the score of the round is updated by the scorekeeper function. "
   ]
  },
  {
   "cell_type": "code",
   "execution_count": 3,
   "metadata": {},
   "outputs": [
    {
     "name": "stdout",
     "output_type": "stream",
     "text": [
      "Enter a rock/scissor/paper: scissor\n",
      "You chose scissor computer chose paper\n",
      "scissor wins paper, you win!\n"
     ]
    }
   ],
   "source": [
    "import random\n",
    "#Take user input\n",
    "user_input = input(\"Enter a rock/scissor/paper: \")\n",
    "\n",
    "#declare choices\n",
    "choices = [\"rock\", \"paper\", \"scissor\"]\n",
    "#use \"random.choice()\" to have program randomlmy select between the actions\n",
    "random = random.choice(choices)\n",
    "\n",
    "print(\"You chose\", user_input, \"computer chose\", random)\n",
    "\n",
    "#determine winner\n",
    "if user_input == random:\n",
    "    print(f\"Both players selected {user_input}. It's a tie!\")\n",
    "elif user_input == \"rock\":\n",
    "    if random == \"paper\":\n",
    "        print(\"paper wins rock, you lose!\")\n",
    "    else:\n",
    "        print(\"rock wins scissor, you win!\")\n",
    "elif user_input == \"paper\":\n",
    "    if random == \"rock\":\n",
    "        print(\"paper wins rock, you win!\")\n",
    "    else:\n",
    "        print(\"scissor wins paper, you lose!\")\n",
    "elif user_input == \"scissor\":\n",
    "    if random == \"rock\":\n",
    "        print(\"rock wins scissor, you lose!\")\n",
    "    else: \n",
    "        print(\"scissor wins paper, you win!\")\n",
    "        \n",
    "\"\"\"\n",
    "f-string: tring literals that have an f at the beginning, \n",
    "and curly braces containing expressions that will be replaced with their value\n",
    "\n",
    ">>> name = \"Eric\"\n",
    ">>> age = 74\n",
    ">>> f\"Hello, {name}. You are {age}.\"\n",
    "'Hello, Eric. You are 74.'\n",
    "https://realpython.com/python-f-strings/\n",
    "\"\"\""
   ]
  },
  {
   "cell_type": "code",
   "execution_count": null,
   "metadata": {},
   "outputs": [],
   "source": [
    "#reference link: https://realpython.com/python-rock-paper-scissors/\n",
    "#to minimize errors for typing capital\n",
    "ROCK = 0\n",
    "PAPER = 1\n",
    "SCISSOR =2\n",
    "\n",
    "#Have user input their choice\n",
    "user_input = input(\"Enter a choice rock[0], paper[1], scissor[2]: \")\n",
    "user_action = int(user_input)\n",
    "if user_action == ROCK:\n",
    "    "
   ]
  },
  {
   "cell_type": "code",
   "execution_count": null,
   "metadata": {},
   "outputs": [],
   "source": []
  }
 ],
 "metadata": {
  "kernelspec": {
   "display_name": "Python 3",
   "language": "python",
   "name": "python3"
  },
  "language_info": {
   "codemirror_mode": {
    "name": "ipython",
    "version": 3
   },
   "file_extension": ".py",
   "mimetype": "text/x-python",
   "name": "python",
   "nbconvert_exporter": "python",
   "pygments_lexer": "ipython3",
   "version": "3.8.5"
  }
 },
 "nbformat": 4,
 "nbformat_minor": 4
}
